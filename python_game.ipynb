{
  "nbformat": 4,
  "nbformat_minor": 0,
  "metadata": {
    "colab": {
      "name": "python_game.ipynb",
      "provenance": [],
      "authorship_tag": "ABX9TyM527JTCffhyaXpw41ryBZe",
      "include_colab_link": true
    },
    "kernelspec": {
      "name": "python3",
      "display_name": "Python 3"
    }
  },
  "cells": [
    {
      "cell_type": "markdown",
      "metadata": {
        "id": "view-in-github",
        "colab_type": "text"
      },
      "source": [
        "<a href=\"https://colab.research.google.com/github/shahyash07/python-game/blob/master/python_game.ipynb\" target=\"_parent\"><img src=\"https://colab.research.google.com/assets/colab-badge.svg\" alt=\"Open In Colab\"/></a>"
      ]
    },
    {
      "cell_type": "code",
      "metadata": {
        "id": "10KtTykI1Onu",
        "colab_type": "code",
        "colab": {
          "base_uri": "https://localhost:8080/",
          "height": 238
        },
        "outputId": "0dd31838-edc9-42fd-c0b2-6ab003833010"
      },
      "source": [
        "from random import choice\n",
        "\n",
        "word = choice([\"yash\", \"shah\"])\n",
        "\n",
        "guessed = []\n",
        "\n",
        "while True:\n",
        "\n",
        "    out = \"\"\n",
        "    for letter in word:\n",
        "        if letter in guessed:\n",
        "            out = out + letter\n",
        "        else:\n",
        "            out = out + \"_\"\n",
        "\n",
        "    if out == word:\n",
        "        print(\"You guessed\", word)\n",
        "        break\n",
        "\n",
        "\n",
        "    print(\"Guess the word:\", out)\n",
        "    guess = input()\n",
        "\n",
        "    if guess in guessed:\n",
        "        print(\"Already guessed\", guess)\n",
        "    elif guess in word:\n",
        "        print(\"Yay\")\n",
        "        guessed.append(guess)\n",
        "    else:\n",
        "        print(\"Nope\")"
      ],
      "execution_count": 1,
      "outputs": [
        {
          "output_type": "stream",
          "text": [
            "Guess the word: ____\n",
            "y\n",
            "Nope\n",
            "Guess the word: ____\n",
            "a\n",
            "Yay\n",
            "Guess the word: __a_\n",
            "s\n",
            "Yay\n",
            "Guess the word: s_a_\n",
            "h\n",
            "Yay\n",
            "You guessed shah\n"
          ],
          "name": "stdout"
        }
      ]
    },
    {
      "cell_type": "code",
      "metadata": {
        "id": "ekVTNLQl1aFb",
        "colab_type": "code",
        "colab": {}
      },
      "source": [
        "y\n"
      ],
      "execution_count": null,
      "outputs": []
    }
  ]
}